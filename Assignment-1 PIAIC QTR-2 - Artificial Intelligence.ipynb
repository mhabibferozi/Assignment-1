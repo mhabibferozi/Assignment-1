{
 "cells": [
  {
   "cell_type": "code",
   "execution_count": 2,
   "metadata": {},
   "outputs": [],
   "source": [
    "import numpy as np\n"
   ]
  },
  {
   "cell_type": "markdown",
   "metadata": {},
   "source": [
    "# Creating an Array"
   ]
  },
  {
   "cell_type": "code",
   "execution_count": 8,
   "metadata": {},
   "outputs": [
    {
     "name": "stdout",
     "output_type": "stream",
     "text": [
      "[[ 1  2  3]\n",
      " [ 2  4  6]\n",
      " [ 4  8 12]]\n"
     ]
    }
   ],
   "source": [
    "a = np.array([[1,2,3], [2,4,6], [4, 8, 12]])\n",
    "#this will give us an array of two dimension created with elements inserted'\n",
    "print (a)"
   ]
  },
  {
   "cell_type": "code",
   "execution_count": 14,
   "metadata": {},
   "outputs": [
    {
     "name": "stdout",
     "output_type": "stream",
     "text": [
      "[1 2 3 4]\n"
     ]
    }
   ],
   "source": [
    "a1 = [1, 2, 3, 4]\n",
    "a2 = np.array(a1)\n",
    "print (a2)\n",
    "#you can also create an array using list"
   ]
  },
  {
   "cell_type": "code",
   "execution_count": 24,
   "metadata": {},
   "outputs": [
    {
     "name": "stdout",
     "output_type": "stream",
     "text": [
      "b: [ 1  2  3  4  5  6  7  8  9 10 11 12 13 14 15 16 17 18 19 20 21 22 23 24]\n",
      "\n",
      "b1: [[ 1  2  3  4  5  6]\n",
      " [ 7  8  9 10 11 12]\n",
      " [13 14 15 16 17 18]\n",
      " [19 20 21 22 23 24]]\n"
     ]
    }
   ],
   "source": [
    "b = np.arange(1,25)\n",
    "print (\"b:\", b)\n",
    "# you can using range function to generate an array as well\n",
    "\n",
    "b1 = b.reshape(4,6)\n",
    "print ()\n",
    "print ('b1:', b1)\n",
    "# you can use reshape to reshape an array"
   ]
  },
  {
   "cell_type": "code",
   "execution_count": 28,
   "metadata": {},
   "outputs": [
    {
     "name": "stdout",
     "output_type": "stream",
     "text": [
      "C: [[0.1143312  0.57153152 0.56617117 0.29037703 0.97169966 0.6310042 ]\n",
      " [0.18113808 0.72858149 0.42668399 0.25721868 0.08796213 0.89611353]]\n",
      "\n",
      "C1: [[0.1143312  0.57153152 0.56617117 0.29037703]\n",
      " [0.97169966 0.6310042  0.18113808 0.72858149]\n",
      " [0.42668399 0.25721868 0.08796213 0.89611353]]\n"
     ]
    }
   ],
   "source": [
    "c = np.random.rand(2,6)\n",
    "print (\"C:\", c)\n",
    "#arrays can be generated using random numbers also, \n",
    "\n",
    "print ()\n",
    "c1 = c.reshape(3,4)\n",
    "print (\"C1:\", c1)"
   ]
  },
  {
   "cell_type": "code",
   "execution_count": 33,
   "metadata": {},
   "outputs": [
    {
     "name": "stdout",
     "output_type": "stream",
     "text": [
      "[[0. 0. 0.]\n",
      " [0. 0. 0.]\n",
      " [0. 0. 0.]]\n",
      "\n",
      "[[1. 1. 1.]\n",
      " [1. 1. 1.]\n",
      " [1. 1. 1.]]\n"
     ]
    }
   ],
   "source": [
    "d = np.zeros(3*3).reshape(3,3)\n",
    "print (d)\n",
    "# another way of creating an array\n",
    "\n",
    "print ()\n",
    "d = d+1\n",
    "print (d)\n",
    "#simple mathematic operations can change elements of array"
   ]
  },
  {
   "cell_type": "code",
   "execution_count": 38,
   "metadata": {},
   "outputs": [
    {
     "name": "stdout",
     "output_type": "stream",
     "text": [
      "[[1 1 1]\n",
      " [1 1 1]\n",
      " [1 1 1]\n",
      " [1 1 1]]\n"
     ]
    }
   ],
   "source": [
    "e= np.ones(3*4,int).reshape(4,3)\n",
    "print (e)\n",
    "#yet Another way of creating an array\n",
    "# this method gives unit matrix\n"
   ]
  },
  {
   "cell_type": "code",
   "execution_count": 43,
   "metadata": {},
   "outputs": [
    {
     "name": "stdout",
     "output_type": "stream",
     "text": [
      "[[1. 0. 0.]\n",
      " [0. 1. 0.]\n",
      " [0. 0. 1.]]\n"
     ]
    }
   ],
   "source": [
    "f = np.eye(3)\n",
    "print (f)\n",
    "# eye function gives you identity matrix"
   ]
  },
  {
   "cell_type": "markdown",
   "metadata": {},
   "source": [
    "# Different Details about Array"
   ]
  },
  {
   "cell_type": "code",
   "execution_count": 45,
   "metadata": {},
   "outputs": [
    {
     "name": "stdout",
     "output_type": "stream",
     "text": [
      "[[ 1  2  3]\n",
      " [ 2  4  6]\n",
      " [ 4  8 12]]\n",
      "2\n"
     ]
    }
   ],
   "source": [
    "print (a)\n",
    "print (a.ndim)\n",
    "# gives dimensions of array, \n",
    "# An easy way to learn dimension is by looking at number of brackets []"
   ]
  },
  {
   "cell_type": "code",
   "execution_count": 53,
   "metadata": {},
   "outputs": [
    {
     "name": "stdout",
     "output_type": "stream",
     "text": [
      "[[ 1  2  3  4  5  6]\n",
      " [ 7  8  9 10 11 12]\n",
      " [13 14 15 16 17 18]\n",
      " [19 20 21 22 23 24]]\n",
      "int32\n",
      "\n",
      "[[ 1.  2.  3.  4.  5.  6.]\n",
      " [ 7.  8.  9. 10. 11. 12.]\n",
      " [13. 14. 15. 16. 17. 18.]\n",
      " [19. 20. 21. 22. 23. 24.]]\n",
      "float64\n"
     ]
    }
   ],
   "source": [
    "print (b1)\n",
    "print (b1.dtype)\n",
    "#dtype gives data type of an array\n",
    "\n",
    "\n",
    "print ()\n",
    "b2 = b1.astype(float)\n",
    "print (b2)\n",
    "print (b2.dtype)\n",
    "#astype can be used to change data type"
   ]
  },
  {
   "cell_type": "code",
   "execution_count": 56,
   "metadata": {},
   "outputs": [
    {
     "name": "stdout",
     "output_type": "stream",
     "text": [
      "[[0.1143312  0.57153152 0.56617117 0.29037703]\n",
      " [0.97169966 0.6310042  0.18113808 0.72858149]\n",
      " [0.42668399 0.25721868 0.08796213 0.89611353]]\n",
      "(3, 4)\n",
      "[[0.1143312  0.57153152 0.56617117]\n",
      " [0.29037703 0.97169966 0.6310042 ]\n",
      " [0.18113808 0.72858149 0.42668399]\n",
      " [0.25721868 0.08796213 0.89611353]]\n",
      "(4, 3)\n"
     ]
    }
   ],
   "source": [
    "print (c1)\n",
    "print (c1.shape)\n",
    "#shape attribute gives shape of an array\n",
    "\n",
    "\n",
    "c2 = c1.reshape(4,3)\n",
    "print (c2)\n",
    "print (c2.shape)\n",
    "# shape of an array can be changed using reshape"
   ]
  },
  {
   "cell_type": "code",
   "execution_count": 60,
   "metadata": {},
   "outputs": [
    {
     "name": "stdout",
     "output_type": "stream",
     "text": [
      "[[0.1143312  0.57153152 0.56617117 0.29037703]\n",
      " [0.97169966 0.6310042  0.18113808 0.72858149]\n",
      " [0.42668399 0.25721868 0.08796213 0.89611353]]\n",
      "12\n",
      "8\n"
     ]
    }
   ],
   "source": [
    "print (c1)\n",
    "print (c1.size)\n",
    "#this gives total no. of elements in an array\n",
    "\n",
    "print (c1.itemsize)\n",
    "#this gives size of an item in an array in bits\n",
    "\n"
   ]
  },
  {
   "cell_type": "code",
   "execution_count": 67,
   "metadata": {},
   "outputs": [
    {
     "name": "stdout",
     "output_type": "stream",
     "text": [
      "[1 2 3 4]\n",
      "4\n",
      "1\n",
      "10\n"
     ]
    }
   ],
   "source": [
    "print (a2)\n",
    "print (a2.max())\n",
    "#gives maximum value\n",
    "\n",
    "print (a2.min())\n",
    "#gives minimum value\n",
    "\n",
    "print (a2.sum())\n",
    "#gives sum of all values"
   ]
  },
  {
   "cell_type": "markdown",
   "metadata": {},
   "source": [
    "# Mathematical Operations"
   ]
  },
  {
   "cell_type": "code",
   "execution_count": 74,
   "metadata": {},
   "outputs": [
    {
     "name": "stdout",
     "output_type": "stream",
     "text": [
      "[[ 1  2  3]\n",
      " [ 2  4  6]\n",
      " [ 4  8 12]]\n",
      "\n",
      "[[2.71828183e+00 7.38905610e+00 2.00855369e+01]\n",
      " [7.38905610e+00 5.45981500e+01 4.03428793e+02]\n",
      " [5.45981500e+01 2.98095799e+03 1.62754791e+05]]\n",
      "\n",
      "[[0.         0.69314718 1.09861229]\n",
      " [0.69314718 1.38629436 1.79175947]\n",
      " [1.38629436 2.07944154 2.48490665]]\n",
      "\n",
      "[[0.         0.30103    0.47712125]\n",
      " [0.30103    0.60205999 0.77815125]\n",
      " [0.60205999 0.90308999 1.07918125]]\n"
     ]
    }
   ],
   "source": [
    "a4 = np.array(a)\n",
    "print (a4)\n",
    "\n",
    "print ()\n",
    "print (np.exp(a4))\n",
    "#this will give Exponential power, e\n",
    "\n",
    "print ()\n",
    "print (np.log(a4))\n",
    "# this gives log of array\n",
    "\n",
    "print ()\n",
    "print (np.log10(a4))\n",
    "#this gives natural log of an array"
   ]
  },
  {
   "cell_type": "code",
   "execution_count": 81,
   "metadata": {},
   "outputs": [
    {
     "name": "stdout",
     "output_type": "stream",
     "text": [
      "[[ 1  2  3]\n",
      " [ 2  4  6]\n",
      " [ 4  8 12]]\n",
      "\n",
      "[[ 3  4  5]\n",
      " [ 4  6  8]\n",
      " [ 6 10 14]]\n"
     ]
    }
   ],
   "source": [
    "print (a4)\n",
    "\n",
    "print ()\n",
    "b4 = a4 + 2\n",
    "print (b4)"
   ]
  },
  {
   "cell_type": "code",
   "execution_count": 87,
   "metadata": {},
   "outputs": [
    {
     "name": "stdout",
     "output_type": "stream",
     "text": [
      "[[ 1  2  3]\n",
      " [ 2  4  6]\n",
      " [ 4  8 12]]\n",
      "\n",
      "[[1.         1.41421356 1.73205081]\n",
      " [1.41421356 2.         2.44948974]\n",
      " [2.         2.82842712 3.46410162]]\n",
      "\n",
      "3.2998316455372216\n",
      "\n",
      "4.666666666666667\n"
     ]
    }
   ],
   "source": [
    "print (a4)\n",
    "\n",
    "print ()\n",
    "print (np.sqrt(a4))\n",
    "#this will give square root of all values\n",
    "\n",
    "print ()\n",
    "print (np.std(a4))\n",
    "#this will give standard deviation of a\n",
    "\n",
    "print ()\n",
    "print (np.mean(a4))\n",
    "#this will give mean of array"
   ]
  },
  {
   "cell_type": "code",
   "execution_count": 98,
   "metadata": {},
   "outputs": [
    {
     "name": "stdout",
     "output_type": "stream",
     "text": [
      "[[ 1  2  3]\n",
      " [ 2  4  6]\n",
      " [ 4  8 12]]\n",
      "[[ 3  4  5]\n",
      " [ 4  6  8]\n",
      " [ 6 10 14]]\n",
      "[[ 4  6  8]\n",
      " [ 6 10 14]\n",
      " [10 18 26]]\n",
      "[[-2 -2 -2]\n",
      " [-2 -2 -2]\n",
      " [-2 -2 -2]]\n",
      "[[  3   8  15]\n",
      " [  8  24  48]\n",
      " [ 24  80 168]]\n",
      "[[ 29  46  63]\n",
      " [ 58  92 126]\n",
      " [116 184 252]]\n",
      "[[0.33333333 0.5        0.6       ]\n",
      " [0.5        0.66666667 0.75      ]\n",
      " [0.66666667 0.8        0.85714286]]\n",
      "[[ 1  2  4]\n",
      " [ 2  4  8]\n",
      " [ 3  6 12]]\n"
     ]
    }
   ],
   "source": [
    "print (a4)\n",
    "\n",
    "print (b4)\n",
    "\n",
    "print (a4 + b4)\n",
    "print (a4 - b4)\n",
    "print (a4 * b4) # elemenet wise matrix multiplication\n",
    "print (a4@b4) # row into column matrix multiplication\n",
    "print (a4 / b4)\n",
    "print (a4.T) # Transposes the matrix/ array"
   ]
  },
  {
   "cell_type": "code",
   "execution_count": null,
   "metadata": {},
   "outputs": [],
   "source": []
  }
 ],
 "metadata": {
  "kernelspec": {
   "display_name": "Python 3",
   "language": "python",
   "name": "python3"
  },
  "language_info": {
   "codemirror_mode": {
    "name": "ipython",
    "version": 3
   },
   "file_extension": ".py",
   "mimetype": "text/x-python",
   "name": "python",
   "nbconvert_exporter": "python",
   "pygments_lexer": "ipython3",
   "version": "3.7.6"
  }
 },
 "nbformat": 4,
 "nbformat_minor": 4
}
