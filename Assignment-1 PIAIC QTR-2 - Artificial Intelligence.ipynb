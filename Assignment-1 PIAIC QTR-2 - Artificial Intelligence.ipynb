{
 "cells": [
  {
   "cell_type": "code",
   "execution_count": 2,
   "metadata": {},
   "outputs": [],
   "source": [
    "import numpy as np\n"
   ]
  },
  {
   "cell_type": "markdown",
   "metadata": {},
   "source": [
    "# Creating an Array"
   ]
  },
  {
   "cell_type": "code",
   "execution_count": 5,
   "metadata": {},
   "outputs": [
    {
     "name": "stdout",
     "output_type": "stream",
     "text": [
      "a: [[ 1  2  3]\n",
      " [ 2  4  6]\n",
      " [ 4  8 12]]\n",
      "b: [[ 1  2  3  4  5  6]\n",
      " [ 7  8  9 10 11 12]\n",
      " [13 14 15 16 17 18]\n",
      " [19 20 21 22 23 24]]\n",
      "c: [[0.77323864 0.98579286 0.86723484]\n",
      " [0.87099464 0.57909944 0.44483447]\n",
      " [0.83444088 0.03192146 0.58914744]]\n"
     ]
    }
   ],
   "source": [
    "a = np.array([[1,2,3], [2,4,6], [4, 8, 12]])\n",
    "b = np.arange(1,25).reshape(4,6)\n",
    "c = np.random.rand(3,3)\n",
    "print (\"a:\", a)\n",
    "print (\"b:\", b)\n",
    "print (\"c:\", c)"
   ]
  },
  {
   "cell_type": "code",
   "execution_count": null,
   "metadata": {},
   "outputs": [],
   "source": []
  }
 ],
 "metadata": {
  "kernelspec": {
   "display_name": "Python 3",
   "language": "python",
   "name": "python3"
  },
  "language_info": {
   "codemirror_mode": {
    "name": "ipython",
    "version": 3
   },
   "file_extension": ".py",
   "mimetype": "text/x-python",
   "name": "python",
   "nbconvert_exporter": "python",
   "pygments_lexer": "ipython3",
   "version": "3.7.6"
  }
 },
 "nbformat": 4,
 "nbformat_minor": 4
}
